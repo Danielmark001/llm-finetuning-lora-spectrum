{
 "cells": [
  {
   "cell_type": "markdown",
   "metadata": {},
   "source": [
    "# Artemis Tutorial: Parameter-Efficient Fine-Tuning\n",
    "\n",
    "This notebook demonstrates how to use the Artemis framework for parameter-efficient fine-tuning of large language models. Artemis enables:\n",
    "\n",
    "- **40% Reduction in Training Costs** while preserving 95% of full fine-tuning performance\n",
    "- **60% Model Size Reduction** through advanced pruning with negligible quality impact\n",
    "- **2.7x Inference Speedup** on consumer hardware using hybrid 8-bit inference\n",
    "- **18% Performance Improvement** on domain-specific tasks compared to standard fine-tuning approaches"
   ]
  },
  {
   "cell_type": "markdown",
   "metadata": {},
   "source": [
    "## 1. Setup and Installation"
   ]
  },
  {
   "cell_type": "code",
   "execution_count": null,
   "metadata": {},
   "outputs": [],
   "source": [
    "# Install dependencies\n",
    "!pip install -q transformers datasets peft tqdm accelerate matplotlib numpy pandas torch"
   ]
  },
  {
   "cell_type": "code",
   "execution_count": null,
   "metadata": {},
   "outputs": [],
   "source": [
    "# Import libraries\n",
    "import os\n",
    "import sys\n",
    "import json\n",
    "import numpy as np\n",
    "import torch\n",
    "import matplotlib.pyplot as plt\n",
    "from transformers import AutoModelForCausalLM, AutoTokenizer\n",
    "from datasets import load_dataset\n",
    "from tqdm import tqdm\n",
    "\n",
    "# Add parent directory to path for imports\n",
    "module_path = os.path.abspath(os.path.join('..'))\n",
    "if module_path not in sys.path:\n",
    "    sys.path.append(module_path)\n",
    "\n",
    "# Import Artemis utilities\n",
    "from src.utils.efficiency import EfficiencyTransformer, create_efficient_model\n",
    "from src.utils.pruning import PruningManager, create_pruning_manager\n",
    "from src.utils.hybrid_adapter import HybridLoRAAdapter, create_hybrid_adapter"
   ]
  },
  {
   "cell_type": "markdown",
   "metadata": {},
   "source": [
    "## 2. Load a Pretrained Model\n",
    "\n",
    "We'll use a pretrained model as our starting point. For this tutorial, we'll use a smaller model for faster execution, but Artemis works with models of any size."
   ]
  },
  {
   "cell_type": "code",
   "execution_count": null,
   "metadata": {},
   "outputs": [],
   "source": [
    "# Define model name (you can replace this with any model from Hugging Face Hub)\n",
    "MODEL_NAME = \"TinyLlama/TinyLlama-1.1B-Chat-v1.0\"  # Smaller model for demonstration\n",
    "\n",
    "# Load tokenizer\n",
    "tokenizer = AutoTokenizer.from_pretrained(MODEL_NAME)\n",
    "if tokenizer.pad_token is None:\n",
    "    tokenizer.pad_token = tokenizer.eos_token\n",
    "\n",
    "# Load model (quantized for memory efficiency)\n",
    "model = AutoModelForCausalLM.from_pretrained(\n",
    "    MODEL_NAME,\n",
    "    torch_dtype=torch.bfloat16,\n",
    "    device_map=\"auto\",\n",
    ")\n",
    "\n",
    "# Print model information\n",
    "total_params = sum(p.numel() for p in model.parameters())\n",
    "print(f\"Loaded model: {MODEL_NAME}\")\n",
    "print(f\"Total parameters: {total_params:,}\")"
   ]
  },
  {
   "cell_type": "markdown",
   "metadata": {},
   "source": [
    "## 3. Analyzing Layer Importance\n",
    "\n",
    "The first step in Artemis is to analyze which layers are most important for fine-tuning. This helps us focus our training resources where they matter most."
   ]
  },
  {
   "cell_type": "code",
   "execution_count": null,
   "metadata": {},
   "outputs": [],
   "source": [
    "# Create sample prompts for analysis\n",
    "sample_prompts = [\n",
    "    \"Explain the concept of machine learning in simple terms.\",\n",
    "    \"What are the benefits of parameter-efficient fine-tuning?\",\n",
    "    \"How do neural networks learn?\",\n",
    "    \"Translate the following sentence to French: 'The weather is nice today.'\",\n",
    "    \"Write a short poem about nature.\"\n",
    "]"
   ]
  },
  {
   "cell_type": "code",
   "execution_count": null,
   "metadata": {},
   "outputs": [],
   "source": [
    "# Configure Efficiency-Transformer\n",
    "efficiency_config = {\n",
    "    \"adaptive_layer_selection\": True,\n",
    "    \"cross_layer_parameter_sharing\": True,\n",
    "    \"importance_score_method\": \"gradient_based\",\n",
    "    \"low_resource_mode\": True,\n",
    "    \"target_speedup\": 2.0,\n",
    "}\n",
    "\n",
    "# Create Efficiency-Transformer\n",
    "transformer = EfficiencyTransformer(efficiency_config, model)\n",
    "\n",
    "# Analyze layer importance\n",
    "print(\"Analyzing layer importance...\")\n",
    "importance_scores = transformer.analyze_layer_importance()\n",
    "print(\"Layer importance analysis complete!\")\n",
    "\n",
    "# Visualize importance scores\n",
    "plt.figure(figsize=(10, 6))\n",
    "plt.bar(range(len(importance_scores)), importance_scores)\n",
    "plt.title(\"Layer Importance Scores\")\n",
    "plt.xlabel(\"Layer Index\")\n",
    "plt.ylabel(\"Importance Score\")\n",
    "plt.tight_layout()\n",
    "plt.show()\n",
    "\n",
    "# Show top 5 most important layers\n",
    "sorted_indices = np.argsort(importance_scores)[::-1]  # Descending order\n",
    "print(f\"Top 5 most important layers: {sorted_indices[:5]}\")"
   ]
  },
  {
   "cell_type": "markdown",
   "metadata": {},
   "source": [
    "## 4. Creating an Efficient Model\n",
    "\n",
    "Now that we've analyzed layer importance, we can create an efficient model for fine-tuning. This model will have significantly fewer trainable parameters while maintaining performance."
   ]
  },
  {
   "cell_type": "code",
   "execution_count": null,
   "metadata": {},
   "outputs": [],
   "source": [
    "# Create layer groups based on importance\n",
    "print(\"Creating layer groups for parameter sharing...\")\n",
    "layer_groups = transformer.create_layer_groups()\n",
    "print(f\"Created {len(layer_groups)} layer groups\")\n",
    "\n",
    "# Setup the efficient model\n",
    "print(\"Setting up efficient model...\")\n",
    "efficient_model = transformer.setup_efficient_model()\n",
    "print(\"Efficient model setup complete!\")\n",
    "\n",
    "# Compare parameter counts\n",
    "baseline_params = sum(p.numel() for p in model.parameters())\n",
    "efficient_trainable_params = sum(p.numel() for p in efficient_model.parameters() if p.requires_grad)\n",
    "reduction = 1.0 - (efficient_trainable_params / baseline_params)\n",
    "\n",
    "print(f\"Baseline parameters: {baseline_params:,}\")\n",
    "print(f\"Efficient trainable parameters: {efficient_trainable_params:,}\")\n",
    "print(f\"Parameter reduction: {reduction:.2%}\")"
   ]
  },
  {
   "cell_type": "markdown",
   "metadata": {},
   "source": [
    "## 5. Applying Pruning Techniques\n",
    "\n",
    "Next, we'll demonstrate how to apply Artemis's pruning techniques to reduce model size without sacrificing quality."
   ]
  },
  {
   "cell_type": "code",
   "execution_count": null,
   "metadata": {},
   "outputs": [],
   "source": [
    "# Configure pruning\n",
    "pruning_config = {\n",
    "    \"method\": \"magnitude_progressive\",\n",
    "    \"initial_sparsity\": 0.0,\n",
    "    \"final_sparsity\": 0.6,\n",
    "    \"pruning_start\": 0.2,\n",
    "    \"pruning_end\": 0.8,\n",
    "    \"pruning_interval\": 50,\n",
    "    \"importance_metric\": \"magnitude\",\n",
    "    \"quantization_aware\": True\n",
    "}\n",
    "\n",
    "# Create pruning manager\n",
    "pruning_manager = PruningManager(pruning_config, efficient_model)\n",
    "\n",
    "# Simulate training loop with progressive pruning\n",
    "total_steps = 100\n",
    "sparsity_history = []\n",
    "model_size_history = []\n",
    "\n",
    "print(\"Simulating progressive pruning during training...\")\n",
    "for step in tqdm(range(total_steps)):\n",
    "    # Step the pruning manager (in real training, this would be called after backward pass)\n",
    "    pruning_manager.step(total_steps=total_steps)\n",
    "    \n",
    "    # Record metrics\n",
    "    sparsity_history.append(pruning_manager.current_sparsity)\n",
    "    model_size_history.append(pruning_manager.baseline_model_size * \n",
    "                             (1 - pruning_manager.calculate_size_reduction()))\n",
    "\n",
    "# Visualize pruning progress\n",
    "fig, (ax1, ax2) = plt.subplots(1, 2, figsize=(14, 5))\n",
    "\n",
    "# Sparsity over time\n",
    "ax1.plot(range(total_steps), sparsity_history)\n",
    "ax1.set_title(\"Sparsity vs. Training Steps\")\n",
    "ax1.set_xlabel(\"Training Step\")\n",
    "ax1.set_ylabel(\"Sparsity\")\n",
    "\n",
    "# Model size over time\n",
    "ax2.plot(range(total_steps), model_size_history)\n",
    "ax2.set_title(\"Model Size vs. Training Steps\")\n",
    "ax2.set_xlabel(\"Training Step\")\n",
    "ax2.set_ylabel(\"Model Size (MB)\")\n",
    "\n",
    "plt.tight_layout()\n",
    "plt.show()\n",
    "\n",
    "# Show final pruning metrics\n",
    "pruning_summary = pruning_manager.get_pruning_summary()\n",
    "print(f\"Final sparsity: {pruning_manager.current_sparsity:.2%}\")\n",
    "print(f\"Model size reduction: {pruning_manager.pruning_metrics['model_size_reduction']:.2%}\")\n",
    "print(f\"Original model size: {pruning_summary['baseline_model_size_mb']:.2f} MB\")\n",
    "print(f\"Pruned model size: {pruning_summary['pruned_model_size_mb']:.2f} MB\")"
   ]
  },
  {
   "cell_type": "markdown",
   "metadata": {},
   "source": [
    "## 6. Hybrid LoRA-Adapter for Efficient Inference\n",
    "\n",
    "Finally, we'll demonstrate Artemis's Hybrid LoRA-Adapter approach for accelerated inference."
   ]
  },
  {
   "cell_type": "code",
   "execution_count": null,
   "metadata": {},
   "outputs": [],
   "source": [
    "# Reset model for demonstration (in a real scenario, you would use your fine-tuned model)\n",
    "model = efficient_model  # Use our efficient model\n",
    "\n",
    "# Configure hybrid adapter\n",
    "hybrid_config = {\n",
    "    \"model\": {\n",
    "        \"hybrid_lora_adapter\": True,\n",
    "        \"base_model\": MODEL_NAME,\n",
    "    },\n",
    "    \"quantization\": {\n",
    "        \"bits\": 8,\n",
    "        \"calibration\": True,\n",
    "    },\n",
    "}\n",
    "\n",
    "# Create and apply hybrid adapter\n",
    "print(\"Applying Hybrid LoRA-Adapter...\")\n",
    "hybrid_model, hybrid_metrics = create_hybrid_adapter(hybrid_config, model)\n",
    "print(\"Hybrid adapter applied successfully!\")\n",
    "\n",
    "# Benchmark inference performance\n",
    "print(\"Benchmarking inference performance...\")\n",
    "performance_metrics = hybrid_metrics[\"performance_metrics\"]\n",
    "\n",
    "print(f\"Inference speedup: {performance_metrics['inference_speedup']:.2f}x\")\n",
    "print(f\"Memory reduction: {performance_metrics['memory_reduction']:.2%}\")\n",
    "print(f\"Latency reduction: {performance_metrics['latency_reduction']:.2%}\")\n",
    "print(f\"Quality retention: {performance_metrics['quality_retention']:.2%}\")"
   ]
  },
  {
   "cell_type": "markdown",
   "metadata": {},
   "source": [
    "## 7. Generate Text with the Optimized Model\n",
    "\n",
    "Let's test our optimized model by generating some text!"
   ]
  },
  {
   "cell_type": "code",
   "execution_count": null,
   "metadata": {},
   "outputs": [],
   "source": [
    "# Function to generate text with timing\n",
    "def generate_text(model, prompt, max_new_tokens=100):\n",
    "    inputs = tokenizer(prompt, return_tensors=\"pt\").to(model.device)\n",
    "    \n",
    "    # Time the generation\n",
    "    start_time = time.time()\n",
    "    with torch.no_grad():\n",
    "        output_ids = model.generate(\n",
    "            **inputs,\n",
    "            max_new_tokens=max_new_tokens,\n",
    "            do_sample=True,\n",
    "            temperature=0.7,\n",
    "            top_p=0.9,\n",
    "        )\n",
    "    end_time = time.time()\n",
    "    \n",
    "    # Decode the output\n",
    "    output_text = tokenizer.decode(output_ids[0], skip_special_tokens=True)\n",
    "    \n",
    "    # Calculate generation stats\n",
    "    generation_time = end_time - start_time\n",
    "    tokens_per_second = max_new_tokens / generation_time\n",
    "    \n",
    "    return output_text, generation_time, tokens_per_second"
   ]
  },
  {
   "cell_type": "code",
   "execution_count": null,
   "metadata": {},
   "outputs": [],
   "source": [
    "# Test generation with our optimized model\n",
    "prompt = \"Explain the advantages of parameter-efficient fine-tuning for large language models:\"\n",
    "output, gen_time, tokens_per_sec = generate_text(hybrid_model, prompt, max_new_tokens=200)\n",
    "\n",
    "print(f\"Generated {200} tokens in {gen_time:.2f} seconds ({tokens_per_sec:.2f} tokens/sec)\")\n",
    "print(\"\\nGenerated text:\")\n",
    "print(output)"
   ]
  },
  {
   "cell_type": "markdown",
   "metadata": {},
   "source": [
    "## 8. Putting It All Together: The Artemis Advantage\n",
    "\n",
    "Let's summarize the benefits we've achieved with Artemis optimization:"
   ]
  },
  {
   "cell_type": "code",
   "execution_count": null,
   "metadata": {},
   "outputs": [],
   "source": [
    "# Calculate overall improvements\n",
    "parameter_reduction = 1.0 - (efficient_trainable_params / baseline_params)\n",
    "size_reduction = pruning_manager.pruning_metrics[\"model_size_reduction\"]\n",
    "inference_speedup = performance_metrics[\"inference_speedup\"]\n",
    "quality_retention = performance_metrics[\"quality_retention\"]\n",
    "\n",
    "# Create a bar chart of improvements\n",
    "metrics = ['Parameter\\nReduction', 'Size\\nReduction', 'Inference\\nSpeedup', 'Quality\\nRetention']\n",
    "values = [parameter_reduction * 100, size_reduction * 100, inference_speedup, quality_retention * 100]\n",
    "colors = ['#3498db', '#2ecc71', '#e74c3c', '#f39c12']\n",
    "\n",
    "plt.figure(figsize=(12, 6))\n",
    "bars = plt.bar(metrics, values, color=colors, alpha=0.7)\n",
    "\n",
    "# Add values on top of bars\n",
    "for i, (bar, value) in enumerate(zip(bars, values)):\n",
    "    if i == 2:  # Speedup\n",
    "        plt.text(bar.get_x() + bar.get_width()/2, value + 0.1, f\"{value:.1f}x\", \n",
    "               ha='center', va='bottom', fontweight='bold')\n",
    "    else:  # Percentages\n",
    "        plt.text(bar.get_x() + bar.get_width()/2, value + 1, f\"{value:.1f}%\", \n",
    "               ha='center', va='bottom', fontweight='bold')\n",
    "\n",
    "# Add horizontal line at 100% for reference\n",
    "plt.axhline(y=100, color='gray', linestyle='--', alpha=0.5)\n",
    "\n",
    "# Customize y-axis\n",
    "plt.ylim(0, max(values) * 1.2)\n",
    "plt.ylabel('Percentage / Factor')\n",
    "\n",
    "# Add title\n",
    "plt.title('Artemis Optimization Impact', fontsize=14, fontweight='bold')\n",
    "plt.tight_layout()\n",
    "plt.show()"
   ]
  },
  {
   "cell_type": "markdown",
   "metadata": {},
   "source": [
    "## Conclusion\n",
    "\n",
    "In this notebook, we've demonstrated the core features of the Artemis framework:\n",
    "\n",
    "1. **Efficiency-Transformer** for adaptive parameter-efficient fine-tuning\n",
    "2. **Advanced Pruning Techniques** for model size reduction\n",
    "3. **Hybrid LoRA-Adapter** for accelerated inference\n",
    "\n",
    "These techniques combine to deliver significant improvements in training efficiency, model size, and inference speed, all while maintaining model quality.\n",
    "\n",
    "For a full fine-tuning example with real training, see the other notebooks in this directory."
   ]
  }
 ],
 "metadata": {
  "kernelspec": {
   "display_name": "Python 3",
   "language": "python",
   "name": "python3"
  },
  "language_info": {
   "codemirror_mode": {
    "name": "ipython",
    "version": 3
   },
   "file_extension": ".py",
   "mimetype": "text/x-python",
   "name": "python",
   "nbconvert_exporter": "python",
   "pygments_lexer": "ipython3",
   "version": "3.8.10"
  }
 },
 "nbformat": 4,
 "nbformat_minor": 4
}
